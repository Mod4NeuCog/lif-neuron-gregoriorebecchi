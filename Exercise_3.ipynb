{
 "cells": [
  {
   "cell_type": "code",
   "execution_count": 1,
   "id": "db52ef48",
   "metadata": {},
   "outputs": [
    {
     "name": "stdout",
     "output_type": "stream",
     "text": [
      "The membrane potential variation is [-75, -57]\n"
     ]
    }
   ],
   "source": [
    "import random \n",
    "class Neuron :\n",
    "    def __init__(self):\n",
    "        self.vmembr=[]\n",
    "        self.starting=-75\n",
    "        self.thresh=-65\n",
    "        self.vrest=-85\n",
    "        self.spike= False \n",
    "    \n",
    "    def Spike(self):\n",
    "        self.vmembr.append(-75)\n",
    "        if self.vmembr[0]>self.thresh:\n",
    "            self.vmembr.append(self.vrest)               \n",
    "        else:\n",
    "            self.vmembr.append(self.vmembr[0]+random.randint(-10,20))\n",
    "        print(\"The membrane potential variation is\", self.vmembr)\n",
    "               \n",
    "neuron1=Neuron()\n",
    "neuron1.Spike()"
   ]
  },
  {
   "cell_type": "code",
   "execution_count": 2,
   "id": "a0ec892b",
   "metadata": {},
   "outputs": [
    {
     "name": "stdout",
     "output_type": "stream",
     "text": [
      "Define the number of measurements you want to study: 10\n",
      "The membrane potential variation is [-75, -85, -82, -84, -72, -80, -69, -56, -85, -92, -101]\n"
     ]
    }
   ],
   "source": [
    "import random \n",
    "\n",
    "class Neuron :\n",
    "    def __init__(self):\n",
    "        self.vmembr=[]\n",
    "        self.starting=-75\n",
    "        self.thresh=-65\n",
    "        self.vrest=-85\n",
    "        self.spike= False \n",
    "     \n",
    "    def Spike(self):\n",
    "        self.vmembr.append(-75)\n",
    "        a = int(input('Define the number of measurements you want to study: '))\n",
    "        for i in range (a):  \n",
    "            if self.vmembr[i]>self.thresh:\n",
    "                self.vmembr.append(self.vrest)               \n",
    "            else:\n",
    "                self.vmembr.append(self.vmembr[i]+random.randint(-10,20))\n",
    "        print(\"The membrane potential variation is\", self.vmembr)\n",
    "               \n",
    "neuron1=Neuron()\n",
    "neuron1.Spike()"
   ]
  },
  {
   "cell_type": "code",
   "execution_count": 5,
   "id": "43f185b0",
   "metadata": {},
   "outputs": [
    {
     "name": "stdout",
     "output_type": "stream",
     "text": [
      "The membrane potential variation is [-75.    -69.    -62.957 -56.871 -85.    -79.071 -73.101 -67.087 -61.03\n",
      " -54.931]\n"
     ]
    }
   ],
   "source": [
    "import numpy as np \n",
    "\n",
    "class Neuron:\n",
    "    def __init__(self):\n",
    "        self.tau=70\n",
    "        self.resistance=200\n",
    "        self.input_corrent=5\n",
    "        self.resting_potential=-85\n",
    "        self.membrane_potential=[-75,0,0,0,0,0,0,0,0,0]\n",
    "        self.a=10\n",
    "        self.thresh=-60\n",
    "    \n",
    "    def spike(self):\n",
    "        for i in range (1,10):\n",
    "            if self.membrane_potential[i-1]>self.thresh:\n",
    "                self.membrane_potential[i]=self.resting_potential\n",
    "            else:\n",
    "                self.membrane_potential[i]=self.membrane_potential[i-1]+0.5*(-85+self.membrane_potential[i-1]+self.resistance*self.input_corrent)/self.tau    #\n",
    "        print(\"The membrane potential variation is\", np.round_(self.membrane_potential, decimals=3))\n",
    "        \n",
    "neuron1=Neuron()\n",
    "neuron1.spike()\n",
    "        "
   ]
  }
 ],
 "metadata": {
  "kernelspec": {
   "display_name": "Python 3 (ipykernel)",
   "language": "python",
   "name": "python3"
  },
  "language_info": {
   "codemirror_mode": {
    "name": "ipython",
    "version": 3
   },
   "file_extension": ".py",
   "mimetype": "text/x-python",
   "name": "python",
   "nbconvert_exporter": "python",
   "pygments_lexer": "ipython3",
   "version": "3.10.7"
  }
 },
 "nbformat": 4,
 "nbformat_minor": 5
}
