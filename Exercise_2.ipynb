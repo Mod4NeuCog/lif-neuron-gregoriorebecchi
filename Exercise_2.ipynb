{
 "cells": [
  {
   "cell_type": "code",
   "execution_count": 4,
   "id": "6965ed49",
   "metadata": {},
   "outputs": [
    {
     "name": "stdout",
     "output_type": "stream",
     "text": [
      "Write the variation of the membrane: 1\n",
      "Write the variation of the membrane: 2\n",
      "Write the variation of the membrane: 3\n",
      "Write the variation of the membrane: 4\n",
      "Write the variation of the membrane: 5\n",
      "At time=  4  a spike takes place\n",
      "[-75, -74, -72, -69, -65, -60]\n"
     ]
    }
   ],
   "source": [
    "class Neuron :\n",
    "    def __init__(self):\n",
    "        self.vmembr=[0]*6\n",
    "        self.thresh=-65\n",
    "        self.vrest=-85\n",
    "        self.spike= False \n",
    "        \n",
    "        \n",
    "    def main(self):\n",
    "        self.vmembr[0]=-75\n",
    "        for x in range (5):\n",
    "            y= (x+1)\n",
    "            if (self.spike==True):\n",
    "                self.vmembr[y]=self.vrest\n",
    "                self.spike= False\n",
    "            elif (self.vmembr[x] == self.vrest):\n",
    "                self.vmembr[y]=-75\n",
    "            else:\n",
    "                self.variation = int(input('Write the variation of the membrane: '))\n",
    "                self.vmembr[y]=self.vmembr[x]+self.variation\n",
    "                if (self.vmembr[y]>self.thresh):\n",
    "                    self.spike=True \n",
    "                    print('At time= ', x, ' a spike takes place' )\n",
    "        print (self.vmembr)\n",
    "       \n",
    "Neuron1 = Neuron()\n",
    "Neuron1.main()"
   ]
  },
  {
   "cell_type": "markdown",
   "id": "431cfa16",
   "metadata": {},
   "source": [
    "5 different membrane variation are recorded. In every loop the variation is added to the starting membrane value and then we check if the value passed the threshold. In this case, a message appears telling at what time the neuorn has spiked. After this, the extra variable \"spike\" becomes True. This is useful for having a refractory period when the neuron does not change its membrane potential value. After this the membrane potential returns at -75mV. In the end the sequence of membrane potentials is printed."
   ]
  },
  {
   "cell_type": "code",
   "execution_count": 3,
   "id": "56a407fd",
   "metadata": {},
   "outputs": [
    {
     "name": "stdout",
     "output_type": "stream",
     "text": [
      "Write the membrane potential alteration: 1\n",
      "Write the membrane potential alteration: 5\n",
      "Write the membrane potential alteration: 10\n",
      "At time=  2  a spike takes place\n",
      "Write the membrane potential alteration: -6\n",
      "Write the membrane potential alteration: 3\n",
      "The list of different membrane potentials is:  [-75, -74, -69, -59, -85, -75]\n"
     ]
    }
   ],
   "source": [
    "class Neuron :\n",
    "    def __init__(self):\n",
    "        self.vmembr=[0]*6\n",
    "        self.thresh=-65\n",
    "        self.vrest=-85\n",
    "        self.spike= False \n",
    "        \n",
    "        \n",
    "    def main(self):\n",
    "        self.vmembr[0]=-75\n",
    "        x=0\n",
    "        while (x<5):    \n",
    "            y= (x+1)\n",
    "            self.variation = int(input('Write the membrane potential alteration: '))\n",
    "            if (self.spike==True):\n",
    "                self.vmembr[y]=self.vrest\n",
    "                self.spike= False\n",
    "            elif (self.vmembr[x] == self.vrest):\n",
    "                self.vmembr[y]=-75\n",
    "            else:\n",
    "                self.vmembr[y]=self.vmembr[x]+self.variation\n",
    "                if (self.vmembr[y]>self.thresh):\n",
    "                    self.spike=True \n",
    "                    print('At time= ', x, ' a spike takes place' )\n",
    "            x+=1\n",
    "        print ('The list of different membrane potentials is: ', self.vmembr)\n",
    "       \n",
    "Neuron1 = Neuron()\n",
    "Neuron1.main()"
   ]
  },
  {
   "cell_type": "markdown",
   "id": "86e16ce0",
   "metadata": {},
   "source": [
    "In this example the same algorithm as before is applied but with a while loop instead of a for loop. "
   ]
  },
  {
   "cell_type": "code",
   "execution_count": 3,
   "id": "88fc0061",
   "metadata": {},
   "outputs": [
    {
     "name": "stdout",
     "output_type": "stream",
     "text": [
      "Write the synaptic weight: 10\n",
      "Write the synaptic weight: -3\n",
      "Write the synaptic weight: 8\n",
      "Write the synaptic weight: 15\n",
      "Write the synaptic weight: -6\n",
      "the list of your synaptic weights is:  [10, -3, 8, 15, -6]\n",
      "At time=  0  a spike takes place\n",
      "At time=  2  a spike takes place\n",
      "At time=  4  a spike takes place\n",
      "The variation of the membrane potential on the neuron is:  [-75, -53, -85, -46, -85, -34]\n"
     ]
    }
   ],
   "source": [
    "class Neuron :\n",
    "    def __init__(self):\n",
    "        self.vmembr=[0]*5\n",
    "        self.thresh=-65\n",
    "        self.vrest=-85\n",
    "        self.spike= False \n",
    "        self.synweight = [0]*5\n",
    "        self.variation=0\n",
    "        \n",
    "        \n",
    "    def main(self):\n",
    "        import random\n",
    "        self.vmembr=[0]*6\n",
    "        self.vmembr[0]=-75\n",
    "        x=0\n",
    "        y= (x+1)\n",
    "        for b in range (5):\n",
    "            self.synweight[b] = int(input('Write the synaptic weight: '))\n",
    "        print (\"The list of your synaptic weights is: \", self.synweight) \n",
    "        for i in range (5):\n",
    "           if (self.spike==True):\n",
    "                self.vmembr[i+1]=self.vrest\n",
    "                self.spike= False\n",
    "            #elif (self.vmembr[x] == self.vrest):\n",
    "              #  self.vmembr[y]=-75\n",
    "           else:\n",
    "                for a in range (5):\n",
    "                    z=[random.randint(0,1)]*5\n",
    "                    self.variation =self.variation + z[a]*self.synweight[a]\n",
    "                self.vmembr[i+1]=self.vmembr[i]+self.variation\n",
    "                if (self.vmembr[i+1]>self.thresh):\n",
    "                    self.spike=True \n",
    "                    print('At time= ', i, ' a spike takes place' )\n",
    "        print (\"The variation of the membrane potential on the neuron is: \",self.vmembr)\n",
    "     \n",
    "       \n",
    "Neuron1 = Neuron()\n",
    "Neuron1.main()"
   ]
  },
  {
   "cell_type": "markdown",
   "id": "e14a10d2",
   "metadata": {},
   "source": [
    "The last code works on a theoretical network where a neuron nx makes synapsis and receives eventually spikes from 5 neurons (n1,...,n5). The synaptic weight of any of the 5 synapsis is typed by the user. After this phase, a message appears showing the 5 different values. These can either be positive or negative depending on the eccitatory/inibitory carachteristics of the synapsis. 5 computations are then executed, ideally one computation corresponds to 1 second and the whole analysis lasts 5 seconds. For any of these simulations, n1...n5 spike randomly with probability=0.5. The activity of any neuron (0 or 1) is multiplied with its synaptic weight: i.e. the synaptic weight corresponds to the membrane alteration due to the firing neuron if it spikes (if n1=1 and the synaptic weight of n1=10, n1 icreases nx potential by a factor of 10mV). The 5 activities are summed together for a global modification on nx membrane potential. If the threshold is passed, a message appears telling at what time the neuron has fired and the membrane potential is fixed at its resting potential (-85mV). If this did not happen, the new altered membrane potential(<-65mV) is the base for the next computation. In the end, the 6 values of the membrane potential are showed: there are 6 values because also the membrane potential at t=0 which is -75mV is part of the membrane potential values vector. "
   ]
  }
 ],
 "metadata": {
  "kernelspec": {
   "display_name": "Python 3 (ipykernel)",
   "language": "python",
   "name": "python3"
  },
  "language_info": {
   "codemirror_mode": {
    "name": "ipython",
    "version": 3
   },
   "file_extension": ".py",
   "mimetype": "text/x-python",
   "name": "python",
   "nbconvert_exporter": "python",
   "pygments_lexer": "ipython3",
   "version": "3.10.7"
  }
 },
 "nbformat": 4,
 "nbformat_minor": 5
}
